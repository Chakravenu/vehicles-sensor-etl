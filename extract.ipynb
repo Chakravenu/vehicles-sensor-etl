{
 "cells": [
  {
   "cell_type": "code",
   "execution_count": 16,
   "metadata": {},
   "outputs": [],
   "source": [
    "import pandas as pd\n",
    "import io"
   ]
  },
  {
   "cell_type": "code",
   "execution_count": 17,
   "metadata": {},
   "outputs": [],
   "source": [
    "\n",
    "def extract_data(bucket_name, file_key, s3_client):\n",
    "    \"\"\"\n",
    "    Extracts raw data from an S3 bucket.\n",
    "    \"\"\"\n",
    "    # Retrieve data from S3\n",
    "    try:\n",
    "        response = s3_client.get_object(Bucket=bucket_name, Key=file_key)\n",
    "        file_content = response['Body'].read().decode('utf-8')\n",
    "        data = pd.read_csv(io.StringIO(file_content))\n",
    "        print(\"Data extraction successful!\")\n",
    "        return data\n",
    "    except Exception as e:\n",
    "        print(f\"Error occurred during data extraction: {e}\")\n",
    "        raise\n"
   ]
  },
  {
   "cell_type": "code",
   "execution_count": null,
   "metadata": {},
   "outputs": [],
   "source": []
  }
 ],
 "metadata": {
  "kernelspec": {
   "display_name": "Python 3",
   "language": "python",
   "name": "python3"
  },
  "language_info": {
   "codemirror_mode": {
    "name": "ipython",
    "version": 3
   },
   "file_extension": ".py",
   "mimetype": "text/x-python",
   "name": "python",
   "nbconvert_exporter": "python",
   "pygments_lexer": "ipython3",
   "version": "3.11.0"
  }
 },
 "nbformat": 4,
 "nbformat_minor": 2
}
